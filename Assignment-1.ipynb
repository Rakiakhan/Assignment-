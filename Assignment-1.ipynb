{
 "cells": [
  {
   "cell_type": "code",
   "execution_count": 6,
   "metadata": {},
   "outputs": [
    {
     "name": "stdout",
     "output_type": "stream",
     "text": [
      "Twinkle, twinkle, little star,\n",
      "     How I wonder what you are!\n",
      "          Up above the world so high,\n",
      "          Like a diamond in the sky.\n",
      "Twinkle, twinkle, little star,\n",
      "    How I wonder what you are!\n"
     ]
    }
   ],
   "source": [
    "#question1\n",
    "\n",
    "print('Twinkle, twinkle, little star,')\n",
    "print('   ' + '  ' +   'How I wonder what you are!')\n",
    "print('    ' + '    ' +'  ' + 'Up above the world so high,')\n",
    "print('    ' + '    ' +'  '+ 'Like a diamond in the sky.')\n",
    "print('Twinkle, twinkle, little star,')\n",
    "print('    ' +   'How I wonder what you are!')"
   ]
  },
  {
   "cell_type": "code",
   "execution_count": 1,
   "metadata": {},
   "outputs": [
    {
     "name": "stdout",
     "output_type": "stream",
     "text": [
      "Python Version3.7.4 (default, Aug  9 2019, 18:34:13) [MSC v.1915 64 bit (AMD64)]\n",
      "Version Info\n",
      "sys.version_info(major=3, minor=7, micro=4, releaselevel='final', serial=0)\n"
     ]
    }
   ],
   "source": [
    "#Question2\n",
    "\n",
    "import sys\n",
    "\n",
    "print('Python Version' + sys.version)\n",
    "print('Version Info')\n",
    "print(sys.version_info)"
   ]
  },
  {
   "cell_type": "code",
   "execution_count": 4,
   "metadata": {},
   "outputs": [
    {
     "name": "stdout",
     "output_type": "stream",
     "text": [
      "2019-12-01 14:57:53.628081\n"
     ]
    }
   ],
   "source": [
    "#Question3\n",
    "\n",
    "from datetime import datetime\n",
    "\n",
    "today = datetime.now()\n",
    "print(today)"
   ]
  },
  {
   "cell_type": "code",
   "execution_count": 3,
   "metadata": {
    "scrolled": true
   },
   "outputs": [
    {
     "name": "stdout",
     "output_type": "stream",
     "text": [
      "Input the radius of the circle: 78\n",
      "The area of the circle with radius 78.0 is: 19113.4497044403\n"
     ]
    }
   ],
   "source": [
    "#Question4\n",
    "from math import pi\n",
    "\n",
    "radius = float(input('Input the radius of the circle: '))\n",
    "\n",
    "print('The area of the circle with radius ' + str(radius) + ' is: ' + str(pi * radius**2))"
   ]
  },
  {
   "cell_type": "code",
   "execution_count": 5,
   "metadata": {},
   "outputs": [
    {
     "name": "stdout",
     "output_type": "stream",
     "text": [
      "Enter first name here: rakia\n",
      "Enter last name here: khan\n",
      "khan rakia\n"
     ]
    }
   ],
   "source": [
    "#Question5\n",
    "first_name = input('Enter first name here: ')\n",
    "last_name = input('Enter last name here: ')\n",
    "\n",
    "print( last_name + ' ' + first_name )"
   ]
  },
  {
   "cell_type": "code",
   "execution_count": 2,
   "metadata": {},
   "outputs": [
    {
     "name": "stdout",
     "output_type": "stream",
     "text": [
      "Enter first number here: 4\n",
      "Enter second number here: 8\n",
      "12\n"
     ]
    }
   ],
   "source": [
    "#Question6\n",
    "first_number = int(input('Enter first number here: '))\n",
    "second_number = int(input('Enter second number here: '))\n",
    "\n",
    "print( first_number + second_number )"
   ]
  },
  {
   "cell_type": "code",
   "execution_count": null,
   "metadata": {},
   "outputs": [],
   "source": []
  }
 ],
 "metadata": {
  "kernelspec": {
   "display_name": "Python 3",
   "language": "python",
   "name": "python3"
  },
  "language_info": {
   "codemirror_mode": {
    "name": "ipython",
    "version": 3
   },
   "file_extension": ".py",
   "mimetype": "text/x-python",
   "name": "python",
   "nbconvert_exporter": "python",
   "pygments_lexer": "ipython3",
   "version": "3.7.4"
  }
 },
 "nbformat": 4,
 "nbformat_minor": 2
}
